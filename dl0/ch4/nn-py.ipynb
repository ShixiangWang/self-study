{
 "cells": [
  {
   "cell_type": "code",
   "execution_count": 1,
   "metadata": {},
   "outputs": [],
   "source": [
    "import numpy as np\n",
    "# import matplotlib.pylab as plt\n",
    "import matplotlib.pyplot as plt"
   ]
  },
  {
   "cell_type": "code",
   "execution_count": 2,
   "metadata": {},
   "outputs": [],
   "source": [
    "# 均方误差\n",
    "def mean_squared_error(y, t):\n",
    "    return 0.5 * np.sum((y - t) ** 2)"
   ]
  },
  {
   "cell_type": "code",
   "execution_count": 3,
   "metadata": {},
   "outputs": [
    {
     "data": {
      "text/plain": [
       "0.09750000000000003"
      ]
     },
     "execution_count": 3,
     "metadata": {},
     "output_type": "execute_result"
    }
   ],
   "source": [
    "t = [0, 0, 1, 0, 0, 0, 0, 0, 0, 0]\n",
    "y = [0.1, 0.05, 0.6, 0.0, 0.05, 0.1, 0.0, 0.1, 0.0, 0.0]\n",
    "\n",
    "mean_squared_error(np.array(y), np.array(t))"
   ]
  },
  {
   "cell_type": "code",
   "execution_count": 4,
   "metadata": {},
   "outputs": [],
   "source": [
    "def cross_entropy_error(y, t):\n",
    "    delta = 1e-7  # 防止负无穷的产生\n",
    "    return -np.sum(t * np.log(y + delta))"
   ]
  },
  {
   "cell_type": "code",
   "execution_count": 5,
   "metadata": {},
   "outputs": [
    {
     "data": {
      "text/plain": [
       "0.510825457099338"
      ]
     },
     "execution_count": 5,
     "metadata": {},
     "output_type": "execute_result"
    }
   ],
   "source": [
    "cross_entropy_error(np.array(y), np.array(t))"
   ]
  },
  {
   "attachments": {},
   "cell_type": "markdown",
   "metadata": {},
   "source": [
    "## Mini-batch"
   ]
  },
  {
   "cell_type": "code",
   "execution_count": 6,
   "metadata": {},
   "outputs": [],
   "source": [
    "import sys\n",
    "import os\n",
    "sys.path.append(os.pardir)\n",
    "import numpy as np\n",
    "from dataset.mnist import load_mnist"
   ]
  },
  {
   "cell_type": "code",
   "execution_count": 7,
   "metadata": {},
   "outputs": [],
   "source": [
    "(x_train, t_train), (x_test, t_test) = load_mnist(normalize=True, one_hot_label=True)"
   ]
  },
  {
   "cell_type": "code",
   "execution_count": 8,
   "metadata": {},
   "outputs": [
    {
     "name": "stdout",
     "output_type": "stream",
     "text": [
      "(60000, 784)\n",
      "(60000, 10)\n"
     ]
    }
   ],
   "source": [
    "print(x_train.shape)\n",
    "print(t_train.shape)"
   ]
  },
  {
   "cell_type": "code",
   "execution_count": 9,
   "metadata": {},
   "outputs": [],
   "source": [
    "train_size = x_train.shape[0]\n",
    "batch_size = 10\n",
    "batch_mask = np.random.choice(train_size, batch_size)\n",
    "x_batch = x_train[batch_mask]\n",
    "t_batch = t_train[batch_mask]"
   ]
  },
  {
   "cell_type": "code",
   "execution_count": 10,
   "metadata": {},
   "outputs": [
    {
     "data": {
      "text/plain": [
       "array([17027,  5824, 55661, 37204, 23942,  8754,    45,  9699, 48731,\n",
       "       57891])"
      ]
     },
     "execution_count": 10,
     "metadata": {},
     "output_type": "execute_result"
    }
   ],
   "source": [
    "np.random.choice(60000, 10)"
   ]
  },
  {
   "cell_type": "code",
   "execution_count": 11,
   "metadata": {},
   "outputs": [],
   "source": [
    "# Update error\n",
    "# for one-hot encoding\n",
    "def cross_entropy_error(y, t):\n",
    "    if y.ndim == 1:\n",
    "        t = t.reshape(1, t.size)\n",
    "        y = y.reshape(1, y.size)\n",
    "\n",
    "    batch_size = y.shape[0]\n",
    "    return -np.sum(t * np.log(y + 1e-7)) / batch_size"
   ]
  },
  {
   "cell_type": "code",
   "execution_count": 12,
   "metadata": {},
   "outputs": [
    {
     "data": {
      "text/plain": [
       "1"
      ]
     },
     "execution_count": 12,
     "metadata": {},
     "output_type": "execute_result"
    }
   ],
   "source": [
    "np.array(t).ndim"
   ]
  },
  {
   "cell_type": "code",
   "execution_count": 13,
   "metadata": {},
   "outputs": [],
   "source": [
    "# For classification label\n",
    "def cross_entropy_error_label(y, t):\n",
    "    if y.ndim == 1:\n",
    "        t = t.reshape(1, t.size)\n",
    "        y = y.reshape(1, y.size)\n",
    "\n",
    "    batch_size = y.shape[0]\n",
    "    return -np.sum(np.log(y[np.arange(batch_size), t] + 1e-7)) / batch_size"
   ]
  },
  {
   "attachments": {},
   "cell_type": "markdown",
   "metadata": {},
   "source": [
    "## 数值微分"
   ]
  },
  {
   "cell_type": "code",
   "execution_count": 14,
   "metadata": {},
   "outputs": [
    {
     "data": {
      "text/plain": [
       "0.0"
      ]
     },
     "execution_count": 14,
     "metadata": {},
     "output_type": "execute_result"
    }
   ],
   "source": [
    "np.float32(1e-50)"
   ]
  },
  {
   "cell_type": "code",
   "execution_count": 15,
   "metadata": {},
   "outputs": [],
   "source": [
    "def function_1(x):\n",
    "    return 0.01*x**2 + 0.1*x"
   ]
  },
  {
   "cell_type": "code",
   "execution_count": 16,
   "metadata": {},
   "outputs": [
    {
     "data": {
      "image/png": "[encoded data removed]",
      "text/plain": [
       "<Figure size 432x288 with 1 Axes>"
      ]
     },
     "metadata": {
      "needs_background": "light"
     },
     "output_type": "display_data"
    }
   ],
   "source": [
    "x = np.arange(0.0, 20.0, 0.1)\n",
    "y = function_1(x)\n",
    "plt.xlabel(\"x\")\n",
    "plt.ylabel(\"f(x)\")\n",
    "plt.plot(x, y)\n",
    "plt.show()"
   ]
  },
  {
   "cell_type": "code",
   "execution_count": 17,
   "metadata": {},
   "outputs": [],
   "source": [
    "def numerical_diff(f, x):\n",
    "    h = 1e-4\n",
    "    return (f(x + h) - f(x - h)) / (2*h)"
   ]
  },
  {
   "cell_type": "code",
   "execution_count": 18,
   "metadata": {},
   "outputs": [
    {
     "name": "stdout",
     "output_type": "stream",
     "text": [
      "0.1999999999990898\n",
      "0.2999999999986347\n"
     ]
    }
   ],
   "source": [
    "print(numerical_diff(function_1, 5))\n",
    "print(numerical_diff(function_1, 10))"
   ]
  },
  {
   "cell_type": "code",
   "execution_count": 19,
   "metadata": {},
   "outputs": [],
   "source": [
    "# 偏导数\n",
    "def function_2(x):\n",
    "    return x[0]**2 + x[1]**2"
   ]
  },
  {
   "cell_type": "code",
   "execution_count": 20,
   "metadata": {},
   "outputs": [],
   "source": [
    "def function_tmp1(x0):\n",
    "    return x0*x0 + 4.0**2.0"
   ]
  },
  {
   "cell_type": "code",
   "execution_count": 21,
   "metadata": {},
   "outputs": [
    {
     "data": {
      "text/plain": [
       "6.00000000000378"
      ]
     },
     "execution_count": 21,
     "metadata": {},
     "output_type": "execute_result"
    }
   ],
   "source": [
    "numerical_diff(function_tmp1, 3.0)"
   ]
  },
  {
   "cell_type": "code",
   "execution_count": 22,
   "metadata": {},
   "outputs": [],
   "source": [
    "def function_tmp2(x1):\n",
    "    return 3.0**2.0 + x1*x1"
   ]
  },
  {
   "cell_type": "code",
   "execution_count": 23,
   "metadata": {},
   "outputs": [
    {
     "data": {
      "text/plain": [
       "7.999999999999119"
      ]
     },
     "execution_count": 23,
     "metadata": {},
     "output_type": "execute_result"
    }
   ],
   "source": [
    "numerical_diff(function_tmp2, 4.0)"
   ]
  },
  {
   "cell_type": "code",
   "execution_count": 24,
   "metadata": {},
   "outputs": [],
   "source": [
    "# 梯度\n",
    "def numerical_gradient(f, x):\n",
    "    h = 1e-4\n",
    "    grad = np.zeros_like(x)\n",
    "\n",
    "    for idx in range(x.size):\n",
    "        tmp_val = x[idx]\n",
    "        \n",
    "        # f(x+h)\n",
    "        x[idx] = tmp_val + h\n",
    "        fxh1 = f(x)\n",
    "\n",
    "        # f(x-h)\n",
    "        x[idx] = tmp_val - h\n",
    "        fxh2 = f(x)\n",
    "\n",
    "        grad[idx] = (fxh1 - fxh2) / (2*h)\n",
    "        x[idx] = tmp_val\n",
    "\n",
    "    return grad\n",
    "\n"
   ]
  },
  {
   "cell_type": "code",
   "execution_count": 25,
   "metadata": {},
   "outputs": [
    {
     "data": {
      "text/plain": [
       "array([6., 8.])"
      ]
     },
     "execution_count": 25,
     "metadata": {},
     "output_type": "execute_result"
    }
   ],
   "source": [
    "numerical_gradient(function_2, np.array([3.0, 4.0]))"
   ]
  },
  {
   "attachments": {},
   "cell_type": "markdown",
   "metadata": {},
   "source": [
    "## 梯度下降法"
   ]
  },
  {
   "cell_type": "code",
   "execution_count": 26,
   "metadata": {},
   "outputs": [],
   "source": [
    "def gradient_descent(f, init_x, lr=0.01, step_num=100):\n",
    "    x = init_x\n",
    "\n",
    "    for i in range(step_num):\n",
    "        grad = numerical_gradient(f, x)\n",
    "        x -= lr * grad\n",
    "\n",
    "    return x"
   ]
  },
  {
   "cell_type": "code",
   "execution_count": 27,
   "metadata": {},
   "outputs": [
    {
     "data": {
      "text/plain": [
       "array([-6.11110793e-10,  8.14814391e-10])"
      ]
     },
     "execution_count": 27,
     "metadata": {},
     "output_type": "execute_result"
    }
   ],
   "source": [
    "init_x = np.array([-3.0, 4.0])\n",
    "gradient_descent(function_2, init_x=init_x, lr=0.1, step_num=100)"
   ]
  },
  {
   "cell_type": "code",
   "execution_count": 28,
   "metadata": {},
   "outputs": [
    {
     "name": "stdout",
     "output_type": "stream",
     "text": [
      "[-6.11110793e-10  8.14814391e-10]\n"
     ]
    }
   ],
   "source": [
    "print(init_x) # 这个在函数内部被更新了！"
   ]
  },
  {
   "cell_type": "code",
   "execution_count": 29,
   "metadata": {},
   "outputs": [
    {
     "name": "stdout",
     "output_type": "stream",
     "text": [
      "[-2.58983747e+13 -1.29524862e+12]\n",
      "[-2.99999994  3.99999992]\n"
     ]
    }
   ],
   "source": [
    "# 真实的结果就是 [0, 0]\n",
    "\n",
    "# 学习率过大\n",
    "init_x = np.array([-3.0, 4.0])\n",
    "print(gradient_descent(function_2, init_x=init_x, lr=10.0, step_num=100))\n",
    "\n",
    "# 学习率过小\n",
    "init_x = np.array([-3.0, 4.0])\n",
    "print(gradient_descent(function_2, init_x=init_x, lr=1e-10, step_num=100))"
   ]
  },
  {
   "cell_type": "code",
   "execution_count": 30,
   "metadata": {},
   "outputs": [
    {
     "data": {
      "image/png": "[encoded data removed]",
      "text/plain": [
       "<Figure size 432x288 with 1 Axes>"
      ]
     },
     "metadata": {
      "needs_background": "light"
     },
     "output_type": "display_data"
    }
   ],
   "source": [
    "%run gradient_method.py"
   ]
  },
  {
   "cell_type": "code",
   "execution_count": 31,
   "metadata": {},
   "outputs": [
    {
     "name": "stdout",
     "output_type": "stream",
     "text": [
      "[[ 0.22889603  0.29767115 -0.52656718]\n",
      " [ 0.34334405  0.44650673 -0.78985077]]\n"
     ]
    }
   ],
   "source": [
    "# 简单的神经网络实例\n",
    "%run gradient_simplenet.py"
   ]
  },
  {
   "cell_type": "code",
   "execution_count": 32,
   "metadata": {},
   "outputs": [
    {
     "name": "stdout",
     "output_type": "stream",
     "text": [
      "[[ 0.65337431 -1.39241009 -1.19137684]\n",
      " [ 0.80420938 -0.52423033 -0.79927116]]\n"
     ]
    }
   ],
   "source": [
    "net = simpleNet()\n",
    "print(net.W)"
   ]
  },
  {
   "cell_type": "code",
   "execution_count": 33,
   "metadata": {},
   "outputs": [
    {
     "name": "stdout",
     "output_type": "stream",
     "text": [
      "[ 1.11581302 -1.30725336 -1.43417015]\n"
     ]
    }
   ],
   "source": [
    "x = np.array([0.6, 0.9])\n",
    "p = net.predict(x)\n",
    "print(p)"
   ]
  },
  {
   "cell_type": "code",
   "execution_count": 34,
   "metadata": {},
   "outputs": [
    {
     "data": {
      "text/plain": [
       "0"
      ]
     },
     "execution_count": 34,
     "metadata": {},
     "output_type": "execute_result"
    }
   ],
   "source": [
    "np.argmax(p)  # 最大值索引"
   ]
  },
  {
   "cell_type": "code",
   "execution_count": 35,
   "metadata": {},
   "outputs": [
    {
     "data": {
      "text/plain": [
       "2.7041886526853034"
      ]
     },
     "execution_count": 35,
     "metadata": {},
     "output_type": "execute_result"
    }
   ],
   "source": [
    "t = np.array([0, 0, 1]) # 正确标签\n",
    "net.loss(x, t)"
   ]
  },
  {
   "cell_type": "code",
   "execution_count": 36,
   "metadata": {},
   "outputs": [
    {
     "name": "stdout",
     "output_type": "stream",
     "text": [
      "[[ 0.51425599  0.04558847 -0.55984446]\n",
      " [ 0.77138399  0.0683827  -0.83976669]]\n"
     ]
    }
   ],
   "source": [
    "# 求梯度\n",
    "# f = lambda w: net.loss(x, t)\n",
    "def f(W):  # 这里 W 是一个伪参数\n",
    "    return net.loss(x, t)\n",
    "\n",
    "# def function_2(x):\n",
    "#     return x[0]**2 + x[1]**2\n",
    "\n",
    "from common.gradient import numerical_gradient\n",
    "dW = numerical_gradient(f, net.W)\n",
    "print(dW)"
   ]
  },
  {
   "attachments": {},
   "cell_type": "markdown",
   "metadata": {},
   "source": [
    "## 学习算法的实现\n",
    "\n",
    "4 个步骤：\n",
    "\n",
    "1. mini-batch：从训练数据中随机选出一部分数据，称为 mini-batch，我们的目标是减少其损失函数的值。\n",
    "2. 计算梯度\n",
    "3. 更新参数：将权重参数沿梯度方向进行微小更新。\n",
    "4. 重复以上 3 个步骤"
   ]
  },
  {
   "cell_type": "code",
   "execution_count": 37,
   "metadata": {},
   "outputs": [],
   "source": [
    "%run two_layer_net.py"
   ]
  },
  {
   "cell_type": "code",
   "execution_count": 38,
   "metadata": {},
   "outputs": [
    {
     "name": "stdout",
     "output_type": "stream",
     "text": [
      "(784, 100)\n",
      "(100,)\n",
      "(100, 10)\n",
      "(10,)\n"
     ]
    }
   ],
   "source": [
    "net = TwoLayerNet(input_size=784, hidden_size=100, output_size=10)\n",
    "print(net.params['W1'].shape)\n",
    "print(net.params['b1'].shape)\n",
    "print(net.params['W2'].shape)\n",
    "print(net.params['b2'].shape)"
   ]
  },
  {
   "cell_type": "code",
   "execution_count": 39,
   "metadata": {},
   "outputs": [],
   "source": [
    "x = np.random.rand(100, 784) \n",
    "y = net.predict(x)"
   ]
  },
  {
   "cell_type": "code",
   "execution_count": 40,
   "metadata": {},
   "outputs": [
    {
     "name": "stdout",
     "output_type": "stream",
     "text": [
      "{'W1': array([[ 1.57233830e-04, -3.27204464e-05,  7.09272041e-05, ...,\n",
      "         3.82704157e-05,  1.31438858e-04, -6.86424761e-05],\n",
      "       [ 8.82482887e-05, -2.33764341e-05,  1.58085238e-04, ...,\n",
      "        -5.91566818e-05,  2.27815959e-04, -1.51073112e-04],\n",
      "       [ 5.86925730e-05, -2.95023161e-05,  1.58967801e-04, ...,\n",
      "         3.51605789e-05,  1.35673044e-04, -7.27458649e-05],\n",
      "       ...,\n",
      "       [ 1.34963050e-04, -2.50532217e-05,  1.35560787e-04, ...,\n",
      "        -1.33984845e-05,  2.28285124e-04, -2.33018531e-04],\n",
      "       [ 1.55446758e-04,  3.07380899e-05,  1.80522042e-05, ...,\n",
      "        -2.50350229e-05,  3.36844315e-04, -3.96073341e-04],\n",
      "       [ 1.19790349e-04, -4.56035365e-05,  3.01791281e-05, ...,\n",
      "        -4.53776750e-05,  2.99933756e-04, -3.21361555e-04]]), 'b1': array([ 1.43882743e-04,  8.92902197e-06,  9.02949959e-05, -7.26291294e-05,\n",
      "       -6.25127727e-05, -2.40240527e-04,  1.65032883e-04,  1.60650826e-05,\n",
      "        9.15513554e-05,  1.26032917e-05,  1.64080045e-04, -8.51107540e-05,\n",
      "       -3.64491148e-05, -7.61876340e-06, -1.75550374e-05,  2.32953878e-05,\n",
      "        7.54215579e-06, -1.48235773e-04, -2.13422102e-04, -8.26366198e-05,\n",
      "        6.42738818e-05, -1.14570466e-04,  1.32978080e-04,  9.86080106e-06,\n",
      "       -2.20434730e-04,  2.87990110e-04,  1.34064286e-04, -1.13409049e-04,\n",
      "        1.15098886e-05,  9.28750832e-05, -8.09135225e-05, -2.45081955e-05,\n",
      "       -5.11648905e-04,  2.85911221e-04,  2.07849666e-04,  3.10622461e-04,\n",
      "       -1.69667453e-04, -1.24000215e-04,  1.18240493e-04, -4.13277035e-05,\n",
      "        2.99807297e-04,  1.22251786e-04, -1.25403306e-04,  2.27072474e-04,\n",
      "       -1.22493509e-04, -8.50364357e-05,  1.40653045e-05, -1.64833576e-04,\n",
      "        2.41775375e-04, -1.80195050e-04,  7.38699568e-05, -1.14582617e-04,\n",
      "        2.33145414e-04, -7.29182492e-06, -1.69347882e-04,  2.05159689e-04,\n",
      "       -2.54588328e-05, -1.53890800e-04,  3.66347759e-04,  1.94211580e-05,\n",
      "        6.95270685e-05, -9.70844605e-05,  6.51794285e-05,  4.10813710e-04,\n",
      "        2.45398946e-05,  1.07295062e-05, -3.87641674e-05, -8.63420202e-05,\n",
      "       -7.23374383e-05, -3.74127018e-05,  2.52090488e-04, -2.33204414e-04,\n",
      "       -2.99208436e-06,  1.15004981e-04, -8.76901463e-05,  2.57352051e-04,\n",
      "        8.98133989e-05, -3.04467931e-04, -9.31303923e-07,  3.61451147e-04,\n",
      "       -1.03585551e-04,  3.24565967e-04, -2.09221458e-04,  1.48053416e-04,\n",
      "        2.85192536e-04,  1.62068603e-04,  3.11310542e-04, -2.25365702e-04,\n",
      "       -2.50720289e-05, -2.41929436e-04,  6.86185087e-05, -1.81540376e-04,\n",
      "        4.47297746e-04,  2.96116656e-04, -2.29426262e-04,  4.92105030e-04,\n",
      "        2.76790684e-04, -9.31888788e-06,  3.83145276e-04, -3.62895767e-04]), 'W2': array([[ 4.16977985e-03, -1.94326854e-02, -8.88736784e-04,\n",
      "         1.95435183e-03,  6.13176748e-03, -9.36311314e-03,\n",
      "         2.02446626e-02,  7.73803504e-03, -6.81934079e-03,\n",
      "        -3.73472059e-03],\n",
      "       [ 4.66110985e-03, -2.52185482e-02,  6.44516880e-04,\n",
      "         3.19777596e-03,  5.07003705e-03, -1.00778501e-02,\n",
      "         2.30000279e-02,  1.01937243e-02, -7.10921825e-03,\n",
      "        -4.36157511e-03],\n",
      "       [ 3.58811961e-03, -1.93025354e-02,  8.36092058e-04,\n",
      "         2.45378091e-03,  4.64401524e-03, -8.91084362e-03,\n",
      "         1.99581049e-02,  8.17727708e-03, -6.92789415e-03,\n",
      "        -4.51611651e-03],\n",
      "       [ 5.42143951e-03, -2.19050559e-02,  9.42100598e-04,\n",
      "         2.46700623e-03,  4.87248031e-03, -9.97404771e-03,\n",
      "         2.14327159e-02,  8.67445417e-03, -7.54515697e-03,\n",
      "        -4.38593593e-03],\n",
      "       [ 4.34220312e-03, -2.12298996e-02,  1.65057035e-04,\n",
      "         2.16694667e-03,  4.71315507e-03, -9.99593909e-03,\n",
      "         2.25448870e-02,  8.46750545e-03, -7.05413750e-03,\n",
      "        -4.11977803e-03],\n",
      "       [ 4.11755034e-03, -2.06520409e-02,  1.17321294e-03,\n",
      "         2.47562702e-03,  3.71304227e-03, -9.90891823e-03,\n",
      "         2.19657774e-02,  9.50115923e-03, -8.14443770e-03,\n",
      "        -4.24097212e-03],\n",
      "       [ 5.55584517e-03, -2.31337230e-02,  6.49825145e-04,\n",
      "         2.49111597e-03,  6.33214083e-03, -1.13560156e-02,\n",
      "         2.32202729e-02,  1.04003730e-02, -8.59325386e-03,\n",
      "        -5.56658024e-03],\n",
      "       [ 4.12663120e-03, -2.08887667e-02,  1.00696021e-03,\n",
      "         2.73858412e-03,  5.42291061e-03, -9.68185620e-03,\n",
      "         2.16655427e-02,  7.79132612e-03, -7.55177041e-03,\n",
      "        -4.62956155e-03],\n",
      "       [ 2.68767965e-03, -1.88940092e-02, -7.34196126e-05,\n",
      "         2.79160953e-03,  4.01379686e-03, -7.40056038e-03,\n",
      "         1.96621330e-02,  7.93608504e-03, -6.91519641e-03,\n",
      "        -3.80811835e-03],\n",
      "       [ 3.50626794e-03, -2.28844289e-02,  6.23960539e-04,\n",
      "         3.41484798e-03,  4.98713591e-03, -1.08316023e-02,\n",
      "         2.34905169e-02,  1.01206604e-02, -7.80321354e-03,\n",
      "        -4.62414480e-03],\n",
      "       [ 5.15557228e-03, -2.11491003e-02,  9.02692521e-05,\n",
      "         2.15495170e-03,  4.23678743e-03, -1.04338189e-02,\n",
      "         2.17221445e-02,  8.38378325e-03, -6.67489663e-03,\n",
      "        -3.48569252e-03],\n",
      "       [ 4.48834567e-03, -2.32080447e-02,  1.00599167e-04,\n",
      "         3.45410827e-03,  5.12178850e-03, -9.76470761e-03,\n",
      "         2.26100591e-02,  1.01893113e-02, -8.29910241e-03,\n",
      "        -4.69235707e-03],\n",
      "       [ 5.02651931e-03, -2.15276346e-02,  7.03537961e-04,\n",
      "         2.26294055e-03,  4.93060860e-03, -1.03239807e-02,\n",
      "         2.18470117e-02,  8.08721240e-03, -7.57194362e-03,\n",
      "        -3.43427136e-03],\n",
      "       [ 3.79818036e-03, -1.91096254e-02,  1.12896221e-03,\n",
      "         1.81613655e-03,  5.17491452e-03, -9.29061243e-03,\n",
      "         1.98249820e-02,  7.45497564e-03, -6.55972200e-03,\n",
      "        -4.23819131e-03],\n",
      "       [ 4.16958857e-03, -2.02356832e-02, -6.98834679e-05,\n",
      "         2.28365496e-03,  5.50166171e-03, -9.95584608e-03,\n",
      "         2.17043784e-02,  8.63625575e-03, -8.23770865e-03,\n",
      "        -3.79641778e-03],\n",
      "       [ 3.08351195e-03, -1.65432385e-02,  2.12569133e-04,\n",
      "         2.94050633e-03,  3.78597008e-03, -7.77720364e-03,\n",
      "         1.67216804e-02,  6.17788732e-03, -4.61759306e-03,\n",
      "        -3.98408995e-03],\n",
      "       [ 5.42271287e-03, -1.93064067e-02, -3.64363206e-04,\n",
      "         1.15174008e-03,  4.73657404e-03, -9.11145464e-03,\n",
      "         2.06406499e-02,  8.15419769e-03, -7.26999399e-03,\n",
      "        -4.05365592e-03],\n",
      "       [ 4.82622411e-03, -2.22534988e-02, -1.80876658e-04,\n",
      "         3.69656032e-03,  5.09391115e-03, -1.04461119e-02,\n",
      "         2.33368845e-02,  9.19834759e-03, -8.61195395e-03,\n",
      "        -4.65948622e-03],\n",
      "       [ 4.08944139e-03, -2.06583419e-02, -7.66411061e-04,\n",
      "         2.39093267e-03,  4.59356510e-03, -9.77275675e-03,\n",
      "         2.08876517e-02,  8.62645750e-03, -6.77961581e-03,\n",
      "        -2.61092274e-03],\n",
      "       [ 3.93998219e-03, -1.88872151e-02,  1.64482761e-03,\n",
      "         2.73493716e-03,  4.18088520e-03, -9.82955258e-03,\n",
      "         1.95768130e-02,  7.87450021e-03, -7.22730684e-03,\n",
      "        -4.00787070e-03],\n",
      "       [ 4.26714696e-03, -1.80696053e-02,  7.96467337e-06,\n",
      "         3.16393581e-03,  4.29085812e-03, -9.00557585e-03,\n",
      "         2.01175619e-02,  7.22857958e-03, -8.23109047e-03,\n",
      "        -3.76977527e-03],\n",
      "       [ 3.32426884e-03, -1.96715245e-02, -2.20346437e-04,\n",
      "         3.09127307e-03,  4.68219447e-03, -8.63738118e-03,\n",
      "         2.07564413e-02,  8.26947480e-03, -7.31622955e-03,\n",
      "        -4.27817071e-03],\n",
      "       [ 3.70882889e-03, -2.14267441e-02,  3.94636097e-04,\n",
      "         2.87950287e-03,  4.87760031e-03, -9.77791985e-03,\n",
      "         2.18484002e-02,  9.43587302e-03, -8.29033661e-03,\n",
      "        -3.64984062e-03],\n",
      "       [ 3.89084709e-03, -1.87839743e-02, -3.96906474e-04,\n",
      "         1.66058239e-03,  4.75208253e-03, -7.92067727e-03,\n",
      "         1.91085468e-02,  8.21256920e-03, -6.89639392e-03,\n",
      "        -3.62667595e-03],\n",
      "       [ 5.50788642e-03, -2.33500868e-02,  1.06599856e-03,\n",
      "         2.82770864e-03,  4.98736993e-03, -1.02684761e-02,\n",
      "         2.31119550e-02,  9.19650251e-03, -8.77964106e-03,\n",
      "        -4.29921693e-03],\n",
      "       [ 3.99984284e-03, -1.85406891e-02, -5.96197798e-04,\n",
      "         1.82146868e-03,  4.78406192e-03, -9.37659581e-03,\n",
      "         2.00077050e-02,  8.55543130e-03, -7.33631042e-03,\n",
      "        -3.31871655e-03],\n",
      "       [ 4.59521292e-03, -2.19998847e-02,  4.73774349e-04,\n",
      "         3.71925107e-03,  4.34503315e-03, -8.63349060e-03,\n",
      "         2.12948333e-02,  8.74710719e-03, -9.03328948e-03,\n",
      "        -3.50854705e-03],\n",
      "       [ 3.74665141e-03, -1.86402096e-02, -1.70861878e-04,\n",
      "         2.87592175e-03,  5.05034471e-03, -9.28391095e-03,\n",
      "         2.14846945e-02,  8.82556029e-03, -8.34305850e-03,\n",
      "        -5.54513155e-03],\n",
      "       [ 4.54139215e-03, -2.31187642e-02,  8.10942471e-04,\n",
      "         2.41022168e-03,  5.52088169e-03, -9.87024253e-03,\n",
      "         2.35299102e-02,  8.88305704e-03, -8.09620663e-03,\n",
      "        -4.61119178e-03],\n",
      "       [ 4.38052207e-03, -2.22817731e-02,  4.44140862e-04,\n",
      "         2.53217624e-03,  5.00109776e-03, -1.09317708e-02,\n",
      "         2.22298367e-02,  9.48940308e-03, -7.38716219e-03,\n",
      "        -3.47647050e-03],\n",
      "       [ 3.53459317e-03, -1.84735560e-02, -8.83135987e-05,\n",
      "         3.26896316e-03,  4.56091661e-03, -9.25178709e-03,\n",
      "         1.97047933e-02,  8.52182236e-03, -7.37117565e-03,\n",
      "        -4.40625622e-03],\n",
      "       [ 3.95398663e-03, -2.10388057e-02,  7.27424179e-04,\n",
      "         2.83989172e-03,  4.52982809e-03, -8.17165402e-03,\n",
      "         2.08510797e-02,  8.62884018e-03, -7.15051297e-03,\n",
      "        -5.17007767e-03],\n",
      "       [ 4.64982277e-03, -2.06141736e-02,  5.32872160e-04,\n",
      "         2.52583553e-03,  5.25708720e-03, -9.13996322e-03,\n",
      "         2.16021352e-02,  8.16670155e-03, -7.72929824e-03,\n",
      "        -5.25101915e-03],\n",
      "       [ 3.81354521e-03, -2.29740778e-02,  7.86531775e-04,\n",
      "         1.88159065e-03,  5.77526546e-03, -1.04629182e-02,\n",
      "         2.47039263e-02,  1.00387216e-02, -9.63113129e-03,\n",
      "        -3.93145347e-03],\n",
      "       [ 3.78384416e-03, -1.91694530e-02,  4.47827111e-04,\n",
      "         2.44780949e-03,  4.19204485e-03, -7.78276836e-03,\n",
      "         1.94292897e-02,  7.96934305e-03, -6.91532314e-03,\n",
      "        -4.40261373e-03],\n",
      "       [ 3.26189073e-03, -2.02469963e-02,  3.72507072e-04,\n",
      "         2.76922593e-03,  5.41229937e-03, -9.67936449e-03,\n",
      "         2.17138845e-02,  9.06462446e-03, -7.45435486e-03,\n",
      "        -5.21371620e-03],\n",
      "       [ 3.89380193e-03, -2.00855952e-02,  3.29668426e-05,\n",
      "         3.41434129e-03,  4.96430474e-03, -8.50490594e-03,\n",
      "         1.98417512e-02,  8.20815026e-03, -7.05362499e-03,\n",
      "        -4.71119002e-03],\n",
      "       [ 2.72087118e-03, -1.82162074e-02, -5.90503495e-04,\n",
      "         2.67606114e-03,  3.76549859e-03, -7.87915244e-03,\n",
      "         1.95748873e-02,  8.95997704e-03, -6.84029203e-03,\n",
      "        -4.17113973e-03],\n",
      "       [ 5.11780823e-03, -2.22759804e-02,  1.14980776e-03,\n",
      "         2.52512301e-03,  4.89422957e-03, -1.06429868e-02,\n",
      "         2.24471410e-02,  9.05877951e-03, -7.23724622e-03,\n",
      "        -5.03667552e-03],\n",
      "       [ 3.88300606e-03, -2.00096614e-02,  2.96374019e-04,\n",
      "         3.05704374e-03,  4.58711603e-03, -9.16710886e-03,\n",
      "         1.98337311e-02,  8.35669628e-03, -6.62390197e-03,\n",
      "        -4.21329489e-03],\n",
      "       [ 3.64390862e-03, -2.08815657e-02,  6.71336953e-04,\n",
      "         2.28757302e-03,  4.08917964e-03, -9.62513838e-03,\n",
      "         2.19919701e-02,  8.42376880e-03, -7.25163428e-03,\n",
      "        -3.34939869e-03],\n",
      "       [ 4.15488411e-03, -2.12162642e-02,  3.62592527e-04,\n",
      "         2.03805620e-03,  4.83397957e-03, -8.71428540e-03,\n",
      "         2.16428751e-02,  8.57396461e-03, -7.98903917e-03,\n",
      "        -3.68676317e-03],\n",
      "       [ 5.37174645e-03, -1.91407772e-02,  5.47813115e-04,\n",
      "         3.34578917e-03,  4.26980986e-03, -9.63880897e-03,\n",
      "         1.86924282e-02,  7.47396971e-03, -6.62472410e-03,\n",
      "        -4.29724612e-03],\n",
      "       [ 4.23371772e-03, -1.94872584e-02,  9.34514022e-05,\n",
      "         1.99224624e-03,  4.05133643e-03, -9.07223723e-03,\n",
      "         2.12057439e-02,  7.86428110e-03, -7.41713734e-03,\n",
      "        -3.46414372e-03],\n",
      "       [ 4.14791248e-03, -2.18663844e-02,  9.45836485e-04,\n",
      "         1.90553270e-03,  5.40648304e-03, -9.94664591e-03,\n",
      "         2.45689504e-02,  8.21292272e-03, -8.70758221e-03,\n",
      "        -4.66702518e-03],\n",
      "       [ 3.85127593e-03, -2.03746876e-02,  1.41822152e-03,\n",
      "         2.41008432e-03,  4.06805776e-03, -9.60916889e-03,\n",
      "         2.04310635e-02,  8.61659501e-03, -6.57084299e-03,\n",
      "        -4.24059835e-03],\n",
      "       [ 3.42303667e-03, -1.87732450e-02,  5.36449958e-04,\n",
      "         1.56667744e-03,  4.83537324e-03, -8.59848969e-03,\n",
      "         1.89736630e-02,  8.46241292e-03, -6.31806789e-03,\n",
      "        -4.10781062e-03],\n",
      "       [ 4.68484004e-03, -2.07182234e-02,  8.34051421e-04,\n",
      "         2.81791760e-03,  4.72807603e-03, -9.67624712e-03,\n",
      "         2.25950162e-02,  8.77783950e-03, -8.85527217e-03,\n",
      "        -5.18799798e-03],\n",
      "       [ 4.31109172e-03, -2.32656732e-02,  1.04053459e-03,\n",
      "         3.93604182e-03,  5.74300562e-03, -1.07443550e-02,\n",
      "         2.18722876e-02,  9.47791740e-03, -8.09071296e-03,\n",
      "        -4.28013732e-03],\n",
      "       [ 4.05747304e-03, -2.08489804e-02, -1.96836303e-05,\n",
      "         3.65625604e-03,  4.17321301e-03, -8.23254086e-03,\n",
      "         2.09194773e-02,  9.01182940e-03, -7.79373466e-03,\n",
      "        -4.92330913e-03],\n",
      "       [ 4.52672683e-03, -2.14354260e-02,  3.32161496e-04,\n",
      "         2.65668993e-03,  4.31415308e-03, -9.62278073e-03,\n",
      "         2.30954535e-02,  8.28861853e-03, -7.42618464e-03,\n",
      "        -4.72941192e-03],\n",
      "       [ 3.81586903e-03, -2.24423081e-02,  7.98182258e-04,\n",
      "         3.68664075e-03,  4.89521783e-03, -1.05965215e-02,\n",
      "         2.28455577e-02,  9.00774622e-03, -7.83034551e-03,\n",
      "        -4.18003855e-03],\n",
      "       [ 3.36548305e-03, -2.15664794e-02,  1.11853525e-03,\n",
      "         2.04737349e-03,  3.66439506e-03, -9.51285102e-03,\n",
      "         2.12547800e-02,  9.74155294e-03, -6.95652025e-03,\n",
      "        -3.15626893e-03],\n",
      "       [ 4.31976077e-03, -2.02754114e-02, -4.78977067e-04,\n",
      "         2.97171137e-03,  4.40422929e-03, -8.06809532e-03,\n",
      "         2.01828517e-02,  8.73170265e-03, -7.35137309e-03,\n",
      "        -4.43639872e-03],\n",
      "       [ 3.61011218e-03, -2.06657034e-02,  9.73962855e-04,\n",
      "         3.72099924e-03,  3.63302386e-03, -9.88115857e-03,\n",
      "         2.19393066e-02,  8.73197040e-03, -8.03982639e-03,\n",
      "        -4.02268659e-03],\n",
      "       [ 4.06617313e-03, -2.03370448e-02,  1.02967229e-03,\n",
      "         2.78899691e-03,  4.99103790e-03, -9.04816735e-03,\n",
      "         2.02206520e-02,  6.94665737e-03, -6.14711160e-03,\n",
      "        -4.51086572e-03],\n",
      "       [ 3.71941240e-03, -2.08610872e-02,  1.33646936e-03,\n",
      "         2.31640193e-03,  3.53841246e-03, -8.99826433e-03,\n",
      "         2.07584837e-02,  8.35868254e-03, -6.33913548e-03,\n",
      "        -3.82937529e-03],\n",
      "       [ 4.77187569e-03, -2.14577428e-02,  2.29636745e-04,\n",
      "         2.53781249e-03,  5.05622892e-03, -1.02912428e-02,\n",
      "         2.19130713e-02,  9.51307765e-03, -8.64242759e-03,\n",
      "        -3.63028956e-03],\n",
      "       [ 3.67678647e-03, -1.75763690e-02,  1.45169456e-03,\n",
      "         2.44102460e-03,  3.72391590e-03, -8.03292084e-03,\n",
      "         1.83242002e-02,  7.59760682e-03, -7.12601018e-03,\n",
      "        -4.47992839e-03],\n",
      "       [ 4.83059808e-03, -1.92606376e-02,  9.54545236e-04,\n",
      "         3.09901629e-03,  4.56502750e-03, -8.73607172e-03,\n",
      "         1.95934327e-02,  7.05933085e-03, -7.52227138e-03,\n",
      "        -4.58296981e-03],\n",
      "       [ 3.25100644e-03, -2.25022149e-02,  1.96048909e-03,\n",
      "         3.20528203e-03,  4.11639462e-03, -1.01929596e-02,\n",
      "         2.20790850e-02,  9.60604493e-03, -8.00946807e-03,\n",
      "        -3.51365939e-03],\n",
      "       [ 4.57674698e-03, -2.44931102e-02,  4.36103669e-04,\n",
      "         2.87346939e-03,  5.99318801e-03, -9.31219877e-03,\n",
      "         2.36989259e-02,  8.95091305e-03, -8.84018634e-03,\n",
      "        -3.88385152e-03],\n",
      "       [ 4.77199682e-03, -2.02283383e-02,  1.28389447e-03,\n",
      "         2.40815882e-03,  4.01769859e-03, -8.35676231e-03,\n",
      "         2.01020061e-02,  7.76583118e-03, -7.58303692e-03,\n",
      "        -4.18144830e-03],\n",
      "       [ 3.46553012e-03, -1.84414047e-02,  8.21482882e-07,\n",
      "         2.88716252e-03,  4.27526851e-03, -7.54229990e-03,\n",
      "         1.86314419e-02,  7.29720359e-03, -7.23811225e-03,\n",
      "        -3.33561109e-03],\n",
      "       [ 3.76647574e-03, -2.12247022e-02, -1.74099850e-04,\n",
      "         1.79779950e-03,  5.00009447e-03, -8.16052448e-03,\n",
      "         2.17461071e-02,  8.54301401e-03, -6.33180903e-03,\n",
      "        -4.96235503e-03],\n",
      "       [ 4.17597558e-03, -1.95958191e-02,  4.71823003e-04,\n",
      "         3.37999876e-03,  4.19250729e-03, -9.36477684e-03,\n",
      "         2.01076387e-02,  8.60146368e-03, -8.12317861e-03,\n",
      "        -3.84563231e-03],\n",
      "       [ 3.79964469e-03, -2.03561936e-02,  1.02463146e-03,\n",
      "         1.72061879e-03,  4.45652377e-03, -9.79740605e-03,\n",
      "         2.15336164e-02,  9.04389495e-03, -7.37300738e-03,\n",
      "        -4.05232288e-03],\n",
      "       [ 4.48938013e-03, -2.25499955e-02,  3.31231265e-05,\n",
      "         3.23003886e-03,  5.60986978e-03, -1.03405400e-02,\n",
      "         2.22413108e-02,  9.88007731e-03, -7.54951365e-03,\n",
      "        -5.04375062e-03],\n",
      "       [ 4.13745131e-03, -1.83086267e-02, -1.91789149e-04,\n",
      "         3.33946599e-03,  3.63737272e-03, -8.77997711e-03,\n",
      "         1.89077203e-02,  8.71146106e-03, -7.00636503e-03,\n",
      "        -4.44671327e-03],\n",
      "       [ 4.10709584e-03, -1.76077129e-02,  8.49507968e-04,\n",
      "         2.52042980e-03,  3.59154772e-03, -8.10649559e-03,\n",
      "         1.86354959e-02,  7.56672719e-03, -6.41440034e-03,\n",
      "        -5.14219549e-03],\n",
      "       [ 3.56935061e-03, -2.19569924e-02,  8.76533646e-05,\n",
      "         3.53963283e-03,  4.88409050e-03, -8.42701356e-03,\n",
      "         2.24090454e-02,  9.11443295e-03, -7.75028599e-03,\n",
      "        -5.46991364e-03],\n",
      "       [ 4.42858483e-03, -2.27082133e-02,  3.83801368e-04,\n",
      "         3.81325846e-03,  4.81736701e-03, -9.51998855e-03,\n",
      "         2.38488318e-02,  8.56441515e-03, -8.18073720e-03,\n",
      "        -5.44731940e-03],\n",
      "       [ 3.74786001e-03, -1.93833916e-02,  1.45052657e-03,\n",
      "         2.49569685e-03,  5.03285244e-03, -1.04642067e-02,\n",
      "         2.01529682e-02,  8.34120102e-03, -7.63790968e-03,\n",
      "        -3.73559697e-03],\n",
      "       [ 3.91449767e-03, -2.09990915e-02,  5.80937798e-04,\n",
      "         3.42248320e-03,  4.76241052e-03, -9.46203775e-03,\n",
      "         2.13834719e-02,  7.66966830e-03, -7.64758614e-03,\n",
      "        -3.62475382e-03],\n",
      "       [ 4.76356885e-03, -2.11406455e-02,  6.05967478e-04,\n",
      "         2.94142622e-03,  3.82768318e-03, -1.01916310e-02,\n",
      "         2.17667434e-02,  9.45238703e-03, -7.84777811e-03,\n",
      "        -4.17772134e-03],\n",
      "       [ 3.99161896e-03, -2.16600868e-02,  1.83890538e-04,\n",
      "         3.19762981e-03,  4.79971585e-03, -9.49857060e-03,\n",
      "         2.17734073e-02,  9.36371307e-03, -7.34263350e-03,\n",
      "        -4.80868448e-03],\n",
      "       [ 3.68257201e-03, -2.20023350e-02,  2.21782714e-04,\n",
      "         3.27556096e-03,  4.26354064e-03, -1.08036903e-02,\n",
      "         2.26305242e-02,  9.77462815e-03, -7.23508285e-03,\n",
      "        -3.80750040e-03],\n",
      "       [ 4.84092412e-03, -2.19542324e-02, -2.48880041e-04,\n",
      "         3.27270205e-03,  6.07744475e-03, -9.76591518e-03,\n",
      "         2.32159486e-02,  8.26552802e-03, -7.66387740e-03,\n",
      "        -6.03964227e-03],\n",
      "       [ 4.44919877e-03, -1.89471011e-02,  4.19038040e-04,\n",
      "         2.42808901e-03,  4.06719641e-03, -8.62020029e-03,\n",
      "         1.97070054e-02,  7.11926458e-03, -6.98952806e-03,\n",
      "        -3.63296265e-03],\n",
      "       [ 4.08233137e-03, -1.82500709e-02,  7.76660423e-04,\n",
      "         1.68284632e-03,  4.17820152e-03, -9.51824604e-03,\n",
      "         2.05170941e-02,  8.16658384e-03, -7.32826462e-03,\n",
      "        -4.30713579e-03],\n",
      "       [ 4.68907136e-03, -2.27998304e-02,  5.01366688e-04,\n",
      "         3.07196136e-03,  5.43178510e-03, -9.31069895e-03,\n",
      "         2.29775787e-02,  9.18073499e-03, -9.05503167e-03,\n",
      "        -4.68693696e-03],\n",
      "       [ 4.45267522e-03, -1.80326647e-02, -1.25652959e-04,\n",
      "         2.81285622e-03,  2.97135201e-03, -8.31053965e-03,\n",
      "         1.97004789e-02,  7.97659811e-03, -7.98220805e-03,\n",
      "        -3.46289493e-03],\n",
      "       [ 4.12439000e-03, -2.03687669e-02,  4.81341875e-04,\n",
      "         2.16393449e-03,  5.41058600e-03, -1.01902231e-02,\n",
      "         2.08554826e-02,  8.53247082e-03, -6.93211833e-03,\n",
      "        -4.07709729e-03],\n",
      "       [ 4.88732505e-03, -2.22468376e-02,  1.00261637e-03,\n",
      "         3.57691496e-03,  3.81874443e-03, -8.83534998e-03,\n",
      "         2.09913047e-02,  9.49493953e-03, -8.61263338e-03,\n",
      "        -4.07702391e-03],\n",
      "       [ 3.46004574e-03, -1.88190883e-02,  1.43541112e-04,\n",
      "         2.48457089e-03,  4.50777722e-03, -8.87432412e-03,\n",
      "         1.93617523e-02,  8.62465922e-03, -7.42639541e-03,\n",
      "        -3.46253846e-03],\n",
      "       [ 4.54702528e-03, -1.92360402e-02,  7.66273467e-04,\n",
      "         2.11424095e-03,  5.43040799e-03, -9.24714275e-03,\n",
      "         1.80486606e-02,  8.05929585e-03, -7.06405104e-03,\n",
      "        -3.41867012e-03],\n",
      "       [ 5.02567574e-03, -2.03720551e-02,  1.49666781e-04,\n",
      "         2.68750013e-03,  5.42615631e-03, -9.93830324e-03,\n",
      "         2.09720961e-02,  8.26481491e-03, -7.37809216e-03,\n",
      "        -4.83745938e-03],\n",
      "       [ 3.69504087e-03, -1.96728064e-02,  6.15665883e-04,\n",
      "         2.21738509e-03,  4.99074142e-03, -9.47026791e-03,\n",
      "         2.03956451e-02,  8.65100735e-03, -6.66402520e-03,\n",
      "        -4.75838601e-03],\n",
      "       [ 3.57597250e-03, -2.11102085e-02,  6.74038876e-04,\n",
      "         2.29102493e-03,  5.87981674e-03, -8.84721154e-03,\n",
      "         2.05271002e-02,  8.16790281e-03, -6.77867933e-03,\n",
      "        -4.37975646e-03],\n",
      "       [ 3.80729762e-03, -1.78934044e-02,  5.02493835e-04,\n",
      "         2.22596912e-03,  4.16826679e-03, -9.73541901e-03,\n",
      "         1.87347848e-02,  7.78610458e-03, -6.23168384e-03,\n",
      "        -3.36440936e-03],\n",
      "       [ 3.73739743e-03, -2.06968629e-02,  8.65776202e-04,\n",
      "         2.86412156e-03,  5.63834233e-03, -1.00714000e-02,\n",
      "         2.15736624e-02,  9.24629786e-03, -8.13568019e-03,\n",
      "        -5.02165444e-03],\n",
      "       [ 4.67787172e-03, -2.15496070e-02,  1.19442387e-04,\n",
      "         2.68478658e-03,  5.08467360e-03, -1.02355509e-02,\n",
      "         2.23506024e-02,  9.43532097e-03, -8.08937461e-03,\n",
      "        -4.47816499e-03],\n",
      "       [ 5.42704108e-03, -2.07705818e-02, -5.82640904e-04,\n",
      "         2.66165489e-03,  4.95858647e-03, -9.59915760e-03,\n",
      "         2.16334451e-02,  8.65568882e-03, -8.15964699e-03,\n",
      "        -4.22438886e-03],\n",
      "       [ 3.70832246e-03, -2.17918937e-02,  1.05729934e-03,\n",
      "         2.98845391e-03,  4.69969230e-03, -9.38241703e-03,\n",
      "         2.19171936e-02,  9.43534268e-03, -8.02774860e-03,\n",
      "        -4.60424483e-03],\n",
      "       [ 4.88998098e-03, -2.19436402e-02,  5.63102163e-04,\n",
      "         2.75775005e-03,  4.44142794e-03, -7.73620263e-03,\n",
      "         2.18401199e-02,  7.50702872e-03, -7.78517087e-03,\n",
      "        -4.53439599e-03],\n",
      "       [ 3.39296727e-03, -2.06636941e-02,  1.23425093e-03,\n",
      "         2.59006690e-03,  4.53708209e-03, -9.00446746e-03,\n",
      "         2.18394781e-02,  8.67459253e-03, -8.01082733e-03,\n",
      "        -4.58944880e-03],\n",
      "       [ 3.20842428e-03, -1.85400606e-02, -3.55416472e-04,\n",
      "         2.39501511e-03,  4.44663529e-03, -9.11758107e-03,\n",
      "         1.95473693e-02,  8.56285918e-03, -7.15953566e-03,\n",
      "        -2.98770918e-03],\n",
      "       [ 3.04541361e-03, -1.83392724e-02,  6.58431221e-04,\n",
      "         3.09423627e-03,  4.80985220e-03, -9.15236718e-03,\n",
      "         1.91996863e-02,  7.63249914e-03, -7.51102764e-03,\n",
      "        -3.43745139e-03],\n",
      "       [ 4.16272572e-03, -1.83145484e-02,  1.10918715e-03,\n",
      "         2.22769684e-03,  3.92658291e-03, -8.10399468e-03,\n",
      "         1.86080205e-02,  7.52784886e-03, -6.50255406e-03,\n",
      "        -4.64096473e-03],\n",
      "       [ 4.15017685e-03, -2.10165257e-02, -3.12775856e-04,\n",
      "         3.43139602e-03,  4.34991353e-03, -8.62513865e-03,\n",
      "         2.31985339e-02,  8.70951549e-03, -7.95415974e-03,\n",
      "        -5.93093563e-03]]), 'b2': array([ 0.00843482, -0.04167893,  0.00079187,  0.00549717,  0.00940602,\n",
      "       -0.01884066,  0.04278165,  0.01733567, -0.01509638, -0.00863124])}\n"
     ]
    }
   ],
   "source": [
    "x = np.random.rand(100, 784)\n",
    "t = np.random.rand(100, 10)\n",
    "\n",
    "grads = net.numerical_gradient(x, t)\n",
    "print(grads)"
   ]
  },
  {
   "attachments": {},
   "cell_type": "markdown",
   "metadata": {},
   "source": [
    "这个梯度的计算是很慢的。"
   ]
  },
  {
   "cell_type": "code",
   "execution_count": 42,
   "metadata": {},
   "outputs": [
    {
     "name": "stdout",
     "output_type": "stream",
     "text": [
      "train acc, test acc | 0.10218333333333333, 0.101\n",
      "train acc, test acc | 0.786, 0.7887\n",
      "train acc, test acc | 0.87535, 0.8777\n",
      "train acc, test acc | 0.8969, 0.9007\n",
      "train acc, test acc | 0.9074, 0.9106\n",
      "train acc, test acc | 0.9134666666666666, 0.9161\n",
      "train acc, test acc | 0.9194833333333333, 0.9201\n",
      "train acc, test acc | 0.9237666666666666, 0.9256\n",
      "train acc, test acc | 0.9273833333333333, 0.928\n",
      "train acc, test acc | 0.93155, 0.9308\n",
      "train acc, test acc | 0.9340666666666667, 0.933\n",
      "train acc, test acc | 0.9366, 0.9361\n",
      "train acc, test acc | 0.9387666666666666, 0.9362\n",
      "train acc, test acc | 0.94185, 0.94\n",
      "train acc, test acc | 0.94365, 0.9429\n",
      "train acc, test acc | 0.9457166666666666, 0.9438\n",
      "train acc, test acc | 0.9473166666666667, 0.945\n"
     ]
    },
    {
     "data": {
      "image/png": "[encoded data removed]",
      "text/plain": [
       "<Figure size 432x288 with 1 Axes>"
      ]
     },
     "metadata": {
      "needs_background": "light"
     },
     "output_type": "display_data"
    }
   ],
   "source": [
    "# 一个实际的神经网络训练\n",
    "%run train_neuralnet.py"
   ]
  },
  {
   "cell_type": "code",
   "execution_count": null,
   "metadata": {},
   "outputs": [],
   "source": []
  }
 ],
 "metadata": {
  "kernelspec": {
   "display_name": "Python 3",
   "language": "python",
   "name": "python3"
  },
  "language_info": {
   "codemirror_mode": {
    "name": "ipython",
    "version": 3
   },
   "file_extension": ".py",
   "mimetype": "text/x-python",
   "name": "python",
   "nbconvert_exporter": "python",
   "pygments_lexer": "ipython3",
   "version": "3.8.9"
  },
  "vscode": {
   "interpreter": {
    "hash": "31f2aee4e71d21fbe5cf8b01ff0e069b9275f58929596ceb00d14d90e3e16cd6"
   }
  }
 },
 "nbformat": 4,
 "nbformat_minor": 2
}
