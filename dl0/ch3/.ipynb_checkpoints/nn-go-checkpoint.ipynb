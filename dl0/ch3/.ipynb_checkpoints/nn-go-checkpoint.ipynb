{
 "cells": [
  {
   "cell_type": "code",
   "execution_count": 1,
   "id": "b16917fc-67b9-42d3-aa48-419d529348fe",
   "metadata": {},
   "outputs": [],
   "source": [
    "import \"fmt\""
   ]
  },
  {
   "cell_type": "code",
   "execution_count": 2,
   "id": "abdf6459-ba16-4418-a29f-3e5c52b583da",
   "metadata": {},
   "outputs": [
    {
     "name": "stdout",
     "output_type": "stream",
     "text": [
      "Hello world\n"
     ]
    },
    {
     "data": {
      "text/plain": [
       "12 <nil>"
      ]
     },
     "execution_count": 2,
     "metadata": {},
     "output_type": "execute_result"
    }
   ],
   "source": [
    "fmt.Println(\"Hello world\")"
   ]
  },
  {
   "cell_type": "code",
   "execution_count": 5,
   "id": "b4b58b88-e83f-4774-bdbc-e2782e5ff8e3",
   "metadata": {},
   "outputs": [],
   "source": [
    "func step_function(x float64) int {\n",
    "    if x > 0 {\n",
    "        return 1\n",
    "    } else {\n",
    "        return 0\n",
    "    }\n",
    "}"
   ]
  },
  {
   "cell_type": "code",
   "execution_count": 6,
   "id": "845fff1e-38d5-4091-82bd-b636959b2959",
   "metadata": {},
   "outputs": [
    {
     "data": {
      "text/plain": [
       "1"
      ]
     },
     "execution_count": 6,
     "metadata": {},
     "output_type": "execute_result"
    }
   ],
   "source": [
    "step_function(0.2)"
   ]
  },
  {
   "cell_type": "code",
   "execution_count": 7,
   "id": "f0866652-3208-4708-a025-38b2ad7276bd",
   "metadata": {},
   "outputs": [
    {
     "data": {
      "text/plain": [
       "0"
      ]
     },
     "execution_count": 7,
     "metadata": {},
     "output_type": "execute_result"
    }
   ],
   "source": [
    "step_function(-1)"
   ]
  },
  {
   "cell_type": "code",
   "execution_count": null,
   "id": "76295221-c669-48ab-a894-4ba021df73b5",
   "metadata": {},
   "outputs": [],
   "source": []
  }
 ],
 "metadata": {
  "kernelspec": {
   "display_name": "Go",
   "language": "go",
   "name": "gophernotes"
  },
  "language_info": {
   "codemirror_mode": "",
   "file_extension": ".go",
   "mimetype": "",
   "name": "go",
   "nbconvert_exporter": "",
   "pygments_lexer": "",
   "version": "go1.19"
  }
 },
 "nbformat": 4,
 "nbformat_minor": 5
}
